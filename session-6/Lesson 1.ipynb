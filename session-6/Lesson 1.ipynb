{
 "cells": [
  {
   "cell_type": "markdown",
   "metadata": {},
   "source": [
    "# Python basics\n",
    "\n",
    "## 1. Indentation"
   ]
  },
  {
   "cell_type": "code",
   "execution_count": 125,
   "metadata": {},
   "outputs": [
    {
     "name": "stdout",
     "output_type": "stream",
     "text": [
      "Invest in firm 1.\n"
     ]
    }
   ],
   "source": [
    "div_yield_firm1 = 0.06 \n",
    "div_yield_firm2 = 0.04\n",
    "\n",
    "if div_yield_firm1 > 0.05:\n",
    "    print('Invest in firm 1.')\n",
    "else:\n",
    "    if div_yield_firm2 > 0.05:\n",
    "        print('Invest in firm 2.')\n",
    "    else:\n",
    "        print('Do not invest at this time.')"
   ]
  },
  {
   "cell_type": "markdown",
   "metadata": {},
   "source": [
    "## 2. Comments"
   ]
  },
  {
   "cell_type": "code",
   "execution_count": null,
   "metadata": {},
   "outputs": [],
   "source": [
    "# Some sample code\n",
    "\n",
    "x=3"
   ]
  },
  {
   "cell_type": "markdown",
   "metadata": {},
   "source": [
    "## 3. Variables"
   ]
  },
  {
   "cell_type": "code",
   "execution_count": 126,
   "metadata": {},
   "outputs": [
    {
     "name": "stdout",
     "output_type": "stream",
     "text": [
      "-7352\n",
      "5.0\n",
      "<class 'float'>\n",
      "The CEO said, \"Earnings growth will exceed 5% next quarter.\"\n",
      "Harley's ticker symbol is HOG.\n"
     ]
    }
   ],
   "source": [
    "# Declaration\n",
    "z=14\n",
    "\n",
    "# Integers\n",
    "k=-7352\n",
    "print(k)\n",
    "\n",
    "# Floating point numbers\n",
    "myFloat1=-5.7\n",
    "myFloat2=5.0\n",
    "myFloat3=5.\n",
    "\n",
    "print(myFloat3)\n",
    "print(type(myFloat2))\n",
    "\n",
    "# Strings\n",
    "myString1 = 'The CEO said, \"Earnings growth will exceed 5% next quarter.\"'\n",
    "print(myString1)\n",
    "\n",
    "myString2 = \"Harley's ticker symbol is HOG.\"\n",
    "print(myString2)"
   ]
  },
  {
   "cell_type": "markdown",
   "metadata": {},
   "source": [
    "When Python sees a single quote, it looks for the next single quote. Everything in between the two single quotes is treated as a string. The same rule applies for double quotes.\n",
    "\n",
    "It is possible to include a single quote inside a single-quoted string, or to include a double quote inside a double-quoted string. To do so, prefix the quote inside the string with a backslash character (\\\\). When Python sees a backslash character, it treats the next character as a literal, meaning it does not assign a special meaning to it. Here are some examples:"
   ]
  },
  {
   "cell_type": "code",
   "execution_count": 127,
   "metadata": {},
   "outputs": [
    {
     "name": "stdout",
     "output_type": "stream",
     "text": [
      "Harley's ticker symbol is HOG.\n",
      "The CEO said, \"Earnings growth will exceed 5% next quarter.\"\n"
     ]
    }
   ],
   "source": [
    "myString = 'Harley\\'s ticker symbol is HOG.' \n",
    "print(myString)\n",
    "\n",
    "myString = \"The CEO said, \\\"Earnings growth will exceed 5% next quarter.\\\"\"\n",
    "print(myString)"
   ]
  },
  {
   "cell_type": "markdown",
   "metadata": {},
   "source": [
    "### 3.1 Booleans\n",
    "A Boolean (bool) can only assume the values True or False. Boolean values are extremely important because they are used in every condi- tional expression in Python. All if statements and while loops use Boolean values. For example, consider the following code."
   ]
  },
  {
   "cell_type": "code",
   "execution_count": 128,
   "metadata": {},
   "outputs": [
    {
     "name": "stdout",
     "output_type": "stream",
     "text": [
      "Something else\n"
     ]
    }
   ],
   "source": [
    "x=0\n",
    "\n",
    "if (x>3):\n",
    "    print('Something')\n",
    "else:\n",
    "    print('Something else')"
   ]
  },
  {
   "cell_type": "markdown",
   "metadata": {},
   "source": [
    "When this code is executed, Python checks whether x is greater than 3. If it is, then the value True is substituted for (x > 3). If x is less than or equal to 3, then the value False is substituted for (x > 3). In other words, Python converts the expression (x > 3) into a Boolean value and uses that to execute the code. In sum, every condition given to an if or to a while is reduced and converted into a Boolean."
   ]
  },
  {
   "cell_type": "markdown",
   "metadata": {},
   "source": [
    "### 3.2 Checking the Type of a Variable, Value, or Expression\n",
    "Use the built-in function type() to check the type of a variable, value, or expression. For example:"
   ]
  },
  {
   "cell_type": "code",
   "execution_count": 132,
   "metadata": {},
   "outputs": [
    {
     "data": {
      "text/plain": [
       "bool"
      ]
     },
     "execution_count": 132,
     "metadata": {},
     "output_type": "execute_result"
    }
   ],
   "source": [
    "type(7)\n",
    "type(4.3)\n",
    "type('Hello')\n",
    "type(False)"
   ]
  },
  {
   "cell_type": "markdown",
   "metadata": {},
   "source": [
    "The type() function can also be used to check the type of data stored in a variable. For example:"
   ]
  },
  {
   "cell_type": "code",
   "execution_count": 133,
   "metadata": {},
   "outputs": [
    {
     "data": {
      "text/plain": [
       "str"
      ]
     },
     "execution_count": 133,
     "metadata": {},
     "output_type": "execute_result"
    }
   ],
   "source": [
    "y = 'Hello there.' \n",
    "type(y)"
   ]
  },
  {
   "cell_type": "markdown",
   "metadata": {},
   "source": [
    "### 3.3 Converting Between Types\n",
    "Some conversions will fail. For example, if you attempt to convert a string to an int or to a float, Python will throw an error. For example:"
   ]
  },
  {
   "cell_type": "code",
   "execution_count": 139,
   "metadata": {},
   "outputs": [
    {
     "data": {
      "text/plain": [
       "str"
      ]
     },
     "execution_count": 139,
     "metadata": {},
     "output_type": "execute_result"
    }
   ],
   "source": [
    "#int('EBITDA is 1.03 million.')\n",
    "type(str(7))"
   ]
  },
  {
   "cell_type": "markdown",
   "metadata": {},
   "source": [
    "## 4. Operators\n",
    "Operators are symbols that act on values. Python provides the following types of operators. Knowledge of these operators will be helpful when performing text analysis:\n",
    "- Arithmetic operators\n",
    "- Comparison operators\n",
    "- Logical operators (for working with Boolean values)\n",
    "- Membership operators (for checking whether something is part of a collection)\n",
    "\n",
    "### 4.1 Arithmetic Operators"
   ]
  },
  {
   "cell_type": "code",
   "execution_count": 140,
   "metadata": {},
   "outputs": [
    {
     "name": "stdout",
     "output_type": "stream",
     "text": [
      "8\n",
      "-15.3\n",
      "6\n",
      "1.5757\n",
      "3\n",
      "2\n",
      "81.0\n"
     ]
    }
   ],
   "source": [
    "# Addition\n",
    "\n",
    "print(5+3)\n",
    "\n",
    "# Subtraction\n",
    "\n",
    "print(4.0-19.3)\n",
    "\n",
    "# Multiplication\n",
    "\n",
    "print(2*3)\n",
    "\n",
    "# Division\n",
    "\n",
    "print(3.1514/2)\n",
    "\n",
    "# Floor division\n",
    "\n",
    "print(7//2)\n",
    "\n",
    "# Mod (remainder)\n",
    "\n",
    "print(14%3)\n",
    "\n",
    "# Exponentiation\n",
    "\n",
    "print(3.0**4)"
   ]
  },
  {
   "cell_type": "markdown",
   "metadata": {},
   "source": [
    "### 4.2 Comparison Operators"
   ]
  },
  {
   "cell_type": "code",
   "execution_count": 144,
   "metadata": {},
   "outputs": [
    {
     "name": "stdout",
     "output_type": "stream",
     "text": [
      "x greater than 5.\n"
     ]
    }
   ],
   "source": [
    "x=6 #Set the value of x to 5.\n",
    "\n",
    "if x>5:\n",
    "    print('x greater than 5.')"
   ]
  },
  {
   "cell_type": "markdown",
   "metadata": {},
   "source": [
    "### 4.3 Logical Operators"
   ]
  },
  {
   "cell_type": "code",
   "execution_count": 147,
   "metadata": {},
   "outputs": [
    {
     "name": "stdout",
     "output_type": "stream",
     "text": [
      "TRUE\n"
     ]
    }
   ],
   "source": [
    "year=2009\n",
    "revenue=1200\n",
    "\n",
    "if (year>2010) or (revenue>1000):\n",
    "    print('TRUE')"
   ]
  },
  {
   "cell_type": "markdown",
   "metadata": {},
   "source": [
    "### 4.4 Membership Operators"
   ]
  },
  {
   "cell_type": "code",
   "execution_count": 148,
   "metadata": {},
   "outputs": [
    {
     "name": "stdout",
     "output_type": "stream",
     "text": [
      "5 is not in the list.\n"
     ]
    }
   ],
   "source": [
    "myList=[1,2,3] # List of integers 1, 2, and 3\n",
    "\n",
    "if 5 in myList:\n",
    "    print('5 is in the list.')\n",
    "else:\n",
    "    print('5 is not in the list.')"
   ]
  },
  {
   "cell_type": "markdown",
   "metadata": {},
   "source": [
    "Another common use of membership operators is to iterate over a collection. For example:"
   ]
  },
  {
   "cell_type": "code",
   "execution_count": 149,
   "metadata": {},
   "outputs": [
    {
     "name": "stdout",
     "output_type": "stream",
     "text": [
      "1\n",
      "2\n",
      "3\n"
     ]
    }
   ],
   "source": [
    "myList = [1,2,3]\n",
    "\n",
    "for x in myList:\n",
    "    print(x)"
   ]
  },
  {
   "cell_type": "markdown",
   "metadata": {},
   "source": [
    "## 5. The print function\n",
    "Python has a built-in print function. When performing text analysis, it is useful to include the print function for testing and debugging. For example, as we write code, we may wish to print the value of a variable or expression."
   ]
  },
  {
   "cell_type": "code",
   "execution_count": 150,
   "metadata": {},
   "outputs": [
    {
     "name": "stdout",
     "output_type": "stream",
     "text": [
      "3.14\n"
     ]
    }
   ],
   "source": [
    "pi=3.14\n",
    "print(pi)"
   ]
  },
  {
   "cell_type": "code",
   "execution_count": 151,
   "metadata": {},
   "outputs": [
    {
     "name": "stdout",
     "output_type": "stream",
     "text": [
      "5 -3 EDGAR\n"
     ]
    }
   ],
   "source": [
    "print(5, -3, 'EDGAR')"
   ]
  },
  {
   "cell_type": "markdown",
   "metadata": {},
   "source": [
    "A common scenario is to substitute the values of variables into a string and then print that string. For example, say we want to print a sentence that includes the name, fiscal year, and net income of a company, all of which are stored in variables. The simplest and most elegant way to perform this is through f-strings. Consider the following example:"
   ]
  },
  {
   "cell_type": "code",
   "execution_count": 152,
   "metadata": {},
   "outputs": [
    {
     "name": "stdout",
     "output_type": "stream",
     "text": [
      "In FY2019, GENERAL MOTORS had net income of 6.581 billion.\n"
     ]
    }
   ],
   "source": [
    "CompanyName = 'General Motors' \n",
    "FiscalYear = 2019\n",
    "NetIncome = 6581000000\n",
    "\n",
    "print(f'In FY{FiscalYear}, {CompanyName.upper()} had net income of {NetIncome / 1e9} billion.')"
   ]
  },
  {
   "cell_type": "markdown",
   "metadata": {},
   "source": [
    "When Python sees the letter f before a string, it treats the string differently. Inside the string, Python looks for expressions inside curly braces. It evaluates those expressions and replaces them with the string equivalents of their values. Notice that the expression {FiscalYear} was replaced with the value 2019, the value of the variable FiscalYear. Also notice that the expressions inside f-strings need not be variables; they can be any valid Python expression. Notice the second expression, {CompanyName.upper()}. The upper() method converts a string to all upper-case. Also notice that the third expression divides the variable NetIncome by one billion.\n",
    "## 6. Control Flow\n",
    "Control flow is the order in which statements are executed in a program. In this section, we will discuss basic control flow in Python, specifically branching (if statements) and loops (while and for).\n",
    "### 6.1 if Statements\n",
    "The syntax for the Python **if** statement is:\n",
    "***\n",
    "if condition_A:\n",
    "    A statements\n",
    "elif condition_B:\n",
    "    B statements\n",
    "elif condition_C:\n",
    "    C statements\n",
    "else:\n",
    "    else_statements\n",
    "***\n",
    "An if statement begins with the keyword if. This keyword is followed by a condition, and then a colon (:). The condition must be an expression that evaluates to, or can be converted to, a Boolean value. Logical operators can be used to join multiple conditions and create complex logic. All statements to be executed if the condition is true must begin on the next line and must be indented. Thus, in the above example, if condition_A evaluates to True, all of the A statements will be executed. Note that the A statements can contain another if statement. This is called “nesting” and an example is shown below."
   ]
  },
  {
   "cell_type": "code",
   "execution_count": 153,
   "metadata": {},
   "outputs": [
    {
     "name": "stdout",
     "output_type": "stream",
     "text": [
      "5\n",
      "4\n"
     ]
    }
   ],
   "source": [
    "x=5\n",
    "y=4\n",
    "if x>y:\n",
    "    print(x)\n",
    "    if y>3:\n",
    "        print(y)"
   ]
  },
  {
   "cell_type": "markdown",
   "metadata": {},
   "source": [
    "In this example, the value of the variable x is printed if x is greater than y. The nested if statement then checks whether y is greater than 3. If so, the value of y is printed. If x is less than or equal to y, nothing is printed and neither the condition, (y < 3), nor the print statement in the nested if is executed.\n",
    "\n",
    "Python allows optional elif and else clauses. Any number of elif clauses is allowed, but only one else clause is allowed. These rules allow for arbitrarily complex logic. Also note that Python checks the clauses in order and stops execution after one clause evaluates to True. Consider the following example, which assumes that a variable age exists in the environment and contains a numeric value."
   ]
  },
  {
   "cell_type": "code",
   "execution_count": 154,
   "metadata": {},
   "outputs": [
    {
     "name": "stdout",
     "output_type": "stream",
     "text": [
      "young adult\n"
     ]
    }
   ],
   "source": [
    "age=25\n",
    "\n",
    "if age<13:\n",
    "    print('child')\n",
    "elif age<20:\n",
    "    print('teenager')\n",
    "elif age<30:\n",
    "    print('young adult')\n",
    "else:\n",
    "    print('old')"
   ]
  },
  {
   "cell_type": "markdown",
   "metadata": {},
   "source": [
    "If the variable age equals 25, Python will check the first condition (age < 13). This will evaluate to False. Python will then check the first elif, which contains the condition (age < 20). This will evaluate to False, so Python will check the second elif condition, (age < 30). This will evaluate to True, so Python will execute the corresponding statement and print 'young adult'. Python will then stop execution.\n",
    "### 6.2 Loops\n",
    "A loop executes an action while a condition is met, then terminates.\n",
    "#### 6.2.1 while Loops\n",
    "As its name suggests, a while loop executes while a condition is true. In Python, the while loop first checks whether its condition is true. If it is, the loop takes some actions and then rechecks the condition. If the condition is still true, the loop executes the actions again. This process repeats until the condition is false.\n",
    "\n",
    "Below is an example of a while loop in action:"
   ]
  },
  {
   "cell_type": "code",
   "execution_count": 156,
   "metadata": {},
   "outputs": [
    {
     "name": "stdout",
     "output_type": "stream",
     "text": [
      "1\n",
      "2\n",
      "3\n",
      "4\n",
      "5\n",
      "6\n",
      "7\n",
      "8\n",
      "9\n"
     ]
    }
   ],
   "source": [
    "counter=1\n",
    "while counter<10:\n",
    "    print(counter)\n",
    "    counter+=1"
   ]
  },
  {
   "cell_type": "markdown",
   "metadata": {},
   "source": [
    "#### 6.2.2 for Loops\n",
    "A for loop is very similar to a while loop. It will test a condition and execute the body of the loop if the condition is satisfied. The difference is that a for loop will iterate, or loop over, something automatically. In other words, a for loop is a while loop with some built-in conveniences.\n",
    "\n",
    "A common scenario is to iterate over a collection of data, such as a list, and do something to every item in the collection. Consider the following example that prints every item in a list."
   ]
  },
  {
   "cell_type": "code",
   "execution_count": 157,
   "metadata": {},
   "outputs": [
    {
     "name": "stdout",
     "output_type": "stream",
     "text": [
      "1\n",
      "2\n",
      "3\n",
      "7\n"
     ]
    }
   ],
   "source": [
    "for x in [1,2,3,7]:\n",
    "    print(x)"
   ]
  },
  {
   "cell_type": "markdown",
   "metadata": {},
   "source": [
    "The code above creates a list with the values, 1, 2, 3, and 7. The for loop iterates over the list. It does so by automatically creating a new variable that we named x. The loop sets x to the first item in the list, which in this case is 1. It then executes the body of the loop, which prints x. The loop then sets x to the next thing on the list, 2, and executes the body of the loop. This continues until the loop has iterated over every value in the list.\n",
    "\n",
    "Another common scenario is to execute an action a given number of times. This is typically accomplished using the built-in range() function. In the example below, the range function returns the sequence 0, 1, 2, 3, 4, 5, 6. The for loop will iterate over this sequence and print every value in the sequence."
   ]
  },
  {
   "cell_type": "code",
   "execution_count": 161,
   "metadata": {},
   "outputs": [
    {
     "name": "stdout",
     "output_type": "stream",
     "text": [
      "1999\n",
      "2000\n",
      "2001\n",
      "2002\n",
      "2003\n",
      "2004\n",
      "2005\n",
      "2006\n",
      "2007\n",
      "2008\n"
     ]
    }
   ],
   "source": [
    "startyear=1999\n",
    "endyear=2008\n",
    "for x in range(startyear,endyear+1):\n",
    "    print(x)"
   ]
  },
  {
   "cell_type": "markdown",
   "metadata": {},
   "source": [
    "Note that by default the range function starts at zero. Thus, range(7) returns a sequence of length 7 that begins at zero and ends at 6. This is common in many programming languages. To start the range function at an arbitrary integer k, instead of the default 0, use range(k, n). This will return the sequence k,k + 1,...,n − 1. Note that if k ≥ n, the range() function will return an empty sequence and the loop will not execute.\n",
    "## 7. Functions\n",
    "A function is a reusable block of code. In this section, we will first show how to create functions in Python. We will then show how to use functions written by others. Such functions are typically organized into modules; we will show how to reference functions stored in modules.\n",
    "### 7.1 Writing Functions\n",
    "Consider the following code. It defines a function, MyAverage, that computes the average of its two inputs."
   ]
  },
  {
   "cell_type": "code",
   "execution_count": null,
   "metadata": {},
   "outputs": [],
   "source": [
    "def MyAverage(x,y):\n",
    "    return (x+y)/2"
   ]
  },
  {
   "cell_type": "markdown",
   "metadata": {},
   "source": [
    "A function definition begins with the keyword def, which stands for define. Following the def keyword is a name for the function. Next is an argument list; this list must be enclosed in parentheses and separated by commas. Our MyAverage function takes two arguments, x and y. These arguments will create variables, but these variables will only “live” inside the function. The first line of the function definition must end with a colon. The next lines are the body of the function and they must be indented. Python uses the indentation to determine which statements constitute the “body” of the function. Python will execute the body of the function, line by line, until it reaches a return statement, or until it executes the last indented statement. A return statement, if provided,\n",
    "“returns” a value to whatever line of code called the function."
   ]
  },
  {
   "cell_type": "code",
   "execution_count": 162,
   "metadata": {},
   "outputs": [
    {
     "name": "stdout",
     "output_type": "stream",
     "text": [
      "4.5\n"
     ]
    }
   ],
   "source": [
    "test_avg=MyAverage(4,5)\n",
    "print(test_avg)"
   ]
  },
  {
   "cell_type": "markdown",
   "metadata": {},
   "source": [
    "It is possible to define a function with zero arguments. To do so, place open and close parentheses after the function name (e.g., def FunctionName():).\n",
    "\n",
    "Functions need not return anything. If you do not wish to return anything from your function, you may omit the return statement or use a return statement with no return value.\n",
    "\n",
    "#### Rules for Naming Functions\n",
    "The rules for naming functions are the same as the rules for naming variables. Function names can contain upper- and lowercase letters, digits, and the underscore character. Function names cannot contain spaces and cannot begin with a digit.\n",
    "#### Arguments are Local Variables\n",
    "When a function is called, Python creates a new environment for that function. The new environment inherits everything from its calling environment. Any arguments to the function are created as variables in the function’s environment. Those variables, and the function’s environment, are deleted once the function returns a value or finishes execution.\n",
    "\n",
    "Functions may reference variables in their calling environment. How- ever, if a function attempts to alter a variable in its calling environment, Python will create a new local variable with the same name. Any changes made to the local variable do not affect the calling environment. This subtlety is best illustrated with an example:"
   ]
  },
  {
   "cell_type": "code",
   "execution_count": 163,
   "metadata": {},
   "outputs": [
    {
     "name": "stdout",
     "output_type": "stream",
     "text": [
      "Inside SampleFunction , x is 0\n",
      "Outside SampleFunction , x is 15\n"
     ]
    }
   ],
   "source": [
    "def SampleFunction(): \n",
    "    x=0\n",
    "    print(f'Inside SampleFunction , x is {x}')\n",
    "\n",
    "x = 15\n",
    "SampleFunction()\n",
    "print(f'Outside SampleFunction , x is {x}')"
   ]
  },
  {
   "cell_type": "markdown",
   "metadata": {},
   "source": [
    "In the above code, the variable x is created in some environment and set to 15. When SampleFunction() is called, it tries to assign the value 0 to x. When Python sees this, it creates a new local variable x and sets its value to 0. This new x will live only within the environment of SampleFunction. Additionally, the new symbol x masks the variable x in the top-level environment. Thus, when the function exits, the local x is destroyed and the top-level x is unmasked.\n",
    "\n",
    "It is possible for functions to alter variables in calling environments, but we strongly discourage this practice. In good programming practice, functions act as “black boxes.” What happens inside the function should stay inside the function, and a function should not directly alter its calling environment.\n",
    "#### Anonymous Functions / Lambda Expressions\n",
    "Python allows programmers to create anonymous functions “on the fly.” A common use case occurs when performing an operation on each row of a dataset; sometimes, there is no available, preexisting function for the desired operation. A programmer could create the function with a def statement, but that would create unnecessary clutter. It is simpler and easier to use an anonymous function.\n",
    "\n",
    "Use the lambda keyword to create an anonymous function. The following example demonstrates the creation and use of an anonymous function:"
   ]
  },
  {
   "cell_type": "code",
   "execution_count": 165,
   "metadata": {},
   "outputs": [
    {
     "name": "stdout",
     "output_type": "stream",
     "text": [
      "[0, 1, 2, 3, 4, 5, 6, 7, 8, 9]\n",
      "[8, 9]\n"
     ]
    }
   ],
   "source": [
    "# Create the list [0 ,1 ,...9]\n",
    "L = list(range(10))\n",
    "\n",
    "print(L)\n",
    "# Extract all elements of L greater than 7\n",
    "\n",
    "# Save to new list named filteredList \n",
    "\n",
    "filteredList = list(filter(lambda x: x > 7, L))\n",
    "\n",
    "print(filteredList)"
   ]
  },
  {
   "cell_type": "markdown",
   "metadata": {},
   "source": [
    "The above example creates a list L. The second line of code extracts all elements of L greater than 7 and saves them to a new list. We used a lambda expression to perform the filtering. The expression, lambda x: x > 7, begins with the lambda keyword and is followed by an argument x and a colon. The body of the function follows the colon. In this case, the function body is simply x > 7, which evaluates to a Boolean. The filter() function applies the anonymous function to every element of the list L and keeps list elements for which the anonymous function evaluates to True. Notice that the anonymous function is created inline, used once, and discarded.\n",
    "### 7.2 Using Functions Written By Others\n",
    "Researchers performing text analysis in Python will mostly work with functions written by others. In this section, we demonstrate how to work with such functions. We discuss how functions are organized into modules and show how to call a function from a module.\n",
    "\n",
    "In programming, functions behave like “black boxes”; a function receives inputs (arguments) and emits an output (the return value). Python supports two types of arguments, positional arguments and keyword arguments. We will demonstrate how to use both types.\n",
    "#### Modules and import Statements\n",
    "Since Python is so popular, people have written thousands of Python functions that researchers can download and use in their own work. Without organizing those functions, many problems would result. For example, say we want to write a function to filter some data. A natural name for such a function is filter, but that function already exists in Python’s standard library. Additionally, many programmers find it useful to bundle a set of related functions. The solution to these problems is to package related functions into a module (sometimes called a package or a library). A module is simply a group of functions that reside in the same file.\n",
    "\n",
    "When we open Python, it loads some built-in functions into the environment (see here). Python also provides a “standard library” that contains many modules with useful functions. If we want to use one of those modules, we have to tell Python by using an import statement. For example, to use the functions in Python’s math library, we would type:"
   ]
  },
  {
   "cell_type": "code",
   "execution_count": null,
   "metadata": {},
   "outputs": [],
   "source": [
    "import math"
   ]
  },
  {
   "cell_type": "markdown",
   "metadata": {},
   "source": [
    "That statement tells Python to load all of the functions from its math module into the environment. After we execute this import statement, we can use any of the functions in the module. For example, the following code computes the factorial of a number using a function from the math library."
   ]
  },
  {
   "cell_type": "code",
   "execution_count": 168,
   "metadata": {},
   "outputs": [
    {
     "name": "stdout",
     "output_type": "stream",
     "text": [
      "120\n"
     ]
    }
   ],
   "source": [
    "import math\n",
    "print(math.factorial(5))"
   ]
  },
  {
   "cell_type": "markdown",
   "metadata": {},
   "source": [
    "Note that the name of the function is math.factorial, not factorial. Readers might wonder why Python requires them to prefix the function name with “math..” The reason is that, without such a prefix, an import statement might hide, or mask, other functions in the environment with the same name.\n",
    "\n",
    "Readers who do not wish to type a prefix have two options. They can either import the function directly from a module into their environment, or define an alias for the module. Both options are commonly used by Python programmers.\n",
    "##### Option 1: Import the functions directly\n",
    "If we do not want to type math. before every function name, we can use something like the following. However, we discourage this practice as it clutters the environment with unneeded function names and increases the chance of a “name collision.”"
   ]
  },
  {
   "cell_type": "code",
   "execution_count": 167,
   "metadata": {},
   "outputs": [
    {
     "name": "stdout",
     "output_type": "stream",
     "text": [
      "2.5649493574615367\n"
     ]
    }
   ],
   "source": [
    "from math import factorial, log, sin\n",
    "print(log(13))"
   ]
  },
  {
   "cell_type": "markdown",
   "metadata": {},
   "source": [
    "This code imports specific functions from the math library. Additionally, such functions do not require the prefix “math..” If someone wishes to import all functions from a library, they can use something like the following:"
   ]
  },
  {
   "cell_type": "code",
   "execution_count": 169,
   "metadata": {},
   "outputs": [],
   "source": [
    "from math import *"
   ]
  },
  {
   "cell_type": "markdown",
   "metadata": {},
   "source": [
    "##### Option 2: Define an alias for the module\n",
    "Some libraries have long names, such as the statistics module. Typing statistics. before every function would be tedious. To prevent this, Python allows users to create an alias for a library name. For example:"
   ]
  },
  {
   "cell_type": "code",
   "execution_count": 170,
   "metadata": {},
   "outputs": [
    {
     "name": "stdout",
     "output_type": "stream",
     "text": [
      "The median of my data is 5.\n"
     ]
    }
   ],
   "source": [
    "import statistics as st\n",
    "\n",
    "mydata=[1,3,5,7,9]\n",
    "\n",
    "my_median=st.median(mydata)\n",
    "\n",
    "print(f'The median of my data is {my_median}.')"
   ]
  },
  {
   "cell_type": "markdown",
   "metadata": {},
   "source": [
    "The above code tells Python to use st as an alias for the statistics module. An alias can be any valid variable name.\n",
    "### 7.3 Calling Functions\n",
    "Consider the following code. It creates a variable, text, and then calls a function re.sub to substitute all occurrences of the string 'OI' with the more informative 'Operating Income'. Notice that we passed three arguments to re.sub. The first argument is the search text, the second argument is the replacement text, and the third argument is the text to search."
   ]
  },
  {
   "cell_type": "code",
   "execution_count": 171,
   "metadata": {},
   "outputs": [
    {
     "name": "stdout",
     "output_type": "stream",
     "text": [
      "Operating Income for FY 2019 was 12.4 billion, up more than eight percent from Operating Income in FY 2018.\n"
     ]
    }
   ],
   "source": [
    "import re\n",
    "text = \"OI for FY 2019 was 12.4 billion, up more than eight percent from OI in FY 2018.\"\n",
    "pretty_text = re.sub(\"OI\", \"Operating Income\", text) \n",
    "print(pretty_text)"
   ]
  },
  {
   "cell_type": "markdown",
   "metadata": {},
   "source": [
    "#### Positional Arguments\n",
    "If we do not tell it otherwise, re.sub assumes that the first argument is the search text, the second argument is the replacement text, and the third argument is the text to search. Functions called in this manner rely on positional arguments: the position of the argument in the function call has meaning. When using positional arguments, we must read the function documentation to learn the correct order of the arguments. The argument order is specified in the function’s signature. For example, the documentation for re.sub provides this function’s signature:\n",
    "***\n",
    "\n",
    "re.sub(pattern, repl, string, count=0, flags=0)\n",
    "\n",
    "***\n",
    "The function signature specifies the arguments that a function accepts. If an argument is followed by an equals sign and a value, that argument is optional. If the argument is omitted, a default value (0 in this case) is used.\n",
    "\n",
    "Many Python programmers use positional arguments when calling frequently-used functions that accept few arguments. However, many functions accept dozens of arguments, many of them optional, making it difficult to remember which argument is which. In this situation, we recommend the reader to consider keyword arguments, which we discuss next.\n",
    "#### Keyword Arguments\n",
    "Consider the call to re.sub in the previous example. An alternative method of calling this function is:\n",
    "***\n",
    "\n",
    "pretty_text = re.sub(pattern=\"OI\", repl=\"Operating Income\", string=text)\n",
    "\n",
    "***\n",
    "In the modified code, we explicitly told Python that the value of the pattern argument is \"OI\", the value of repl is \"Operating Income\", and the value of string is text. A function called this way relies on keyword arguments. Keyword arguments provide many advantages over positional arguments. Code readability is increased since the arguments are clearly specified. Additionally, arguments can be passed in any order. Thus, this function call would yield an identical result:\n",
    "***\n",
    "\n",
    "pretty_text = re.sub(string=text, repl=\"Operating Income\", pattern=\"OI\")\n",
    "\n",
    "***\n",
    "#### Mixing Positional and Keyword Arguments\n",
    "Python allows function calls with positional and keyword arguments. The only stipulation is that once a keyword argument is used, all remaining arguments must be keyword arguments. Thus, the following is allowed:"
   ]
  },
  {
   "cell_type": "code",
   "execution_count": 172,
   "metadata": {},
   "outputs": [
    {
     "data": {
      "text/plain": [
       "'Operating Income for FY 2019 was 12.4 billion, up more than eight percent from Operating Income in FY 2018.'"
      ]
     },
     "execution_count": 172,
     "metadata": {},
     "output_type": "execute_result"
    }
   ],
   "source": [
    "re.sub(\"OI\", \"Operating Income\", string=text)"
   ]
  },
  {
   "cell_type": "markdown",
   "metadata": {},
   "source": [
    "However, the following would raise an error since a positional argument follows a keyword argument:"
   ]
  },
  {
   "cell_type": "code",
   "execution_count": 173,
   "metadata": {},
   "outputs": [
    {
     "ename": "SyntaxError",
     "evalue": "positional argument follows keyword argument (<ipython-input-173-1a96811d74d8>, line 1)",
     "output_type": "error",
     "traceback": [
      "\u001b[0;36m  File \u001b[0;32m\"<ipython-input-173-1a96811d74d8>\"\u001b[0;36m, line \u001b[0;32m1\u001b[0m\n\u001b[0;31m    re.sub(pattern=\"OI\", \"Operating Income\", text)\u001b[0m\n\u001b[0m                        ^\u001b[0m\n\u001b[0;31mSyntaxError\u001b[0m\u001b[0;31m:\u001b[0m positional argument follows keyword argument\n"
     ]
    }
   ],
   "source": [
    "re.sub(pattern=\"OI\", \"Operating Income\", text)"
   ]
  },
  {
   "cell_type": "markdown",
   "metadata": {},
   "source": [
    "## 8. Collections - Lists, Tuples, and Dictionaries\n",
    "Python provides many ways of storing collections of data. In this section, we introduce three data structures for storing data collections: lists, tu- ples, and dictionaries. In the next chapter, we will introduce another data structure for storing collections of data, the Pandas DataFrame. Much of the syntax for lists and dictionaries applies to Pandas DataFrames.\n",
    "### 8.1 Lists\n",
    "A list is a mutable collection of objects. Python lists can contain data of different data types. List items can be added, modified, and deleted.\n",
    "#### Creating a List\n",
    "Create a list by enclosing data inside square brackets and separating each data item with a comma. Spaces between commas are optional. The following example creates a list and saves the list into a variable, L. The list contains three elements, a string, a float, and a list. Note that the type of the variable is list. Also note that it is possible to nest lists within lists."
   ]
  },
  {
   "cell_type": "code",
   "execution_count": 175,
   "metadata": {},
   "outputs": [
    {
     "name": "stdout",
     "output_type": "stream",
     "text": [
      "['GM', -3.14, [1, 2, 3]]\n"
     ]
    }
   ],
   "source": [
    "L = ['GM', -3.14, [1, 2, 3]]\n",
    "type(L)\n",
    "print(L)"
   ]
  },
  {
   "cell_type": "markdown",
   "metadata": {},
   "source": [
    "#### Retrieving List Elements\n",
    "In Python, each list element is assigned an index. List indexes begin at 0 and end at n − 1, where n is the number of elements in the list. Thus, in the previous example, the list element 'GM' has an index of 0, -3.14 has an index of 1, and \\[1,2,3\\] has an index of 2.\n",
    "\n",
    "To access a single element of a list, type the name of the list and then enter the list index in square brackets. For example:"
   ]
  },
  {
   "cell_type": "code",
   "execution_count": 176,
   "metadata": {},
   "outputs": [
    {
     "data": {
      "text/plain": [
       "-3.14"
      ]
     },
     "execution_count": 176,
     "metadata": {},
     "output_type": "execute_result"
    }
   ],
   "source": [
    "L[1]"
   ]
  },
  {
   "cell_type": "markdown",
   "metadata": {},
   "source": [
    "Python provides a shortcut to retrieve elements from the end of the list. The list index −1, refers to the last element of the list, −2 to the element that precedes the last, and so on. For example:"
   ]
  },
  {
   "cell_type": "code",
   "execution_count": 177,
   "metadata": {},
   "outputs": [
    {
     "name": "stdout",
     "output_type": "stream",
     "text": [
      "[1, 2, 3]\n"
     ]
    }
   ],
   "source": [
    "print(L[-1])"
   ]
  },
  {
   "cell_type": "markdown",
   "metadata": {},
   "source": [
    "#### Slicing\n",
    "Python makes it very easy to retrieve more than one element of a list. This process is called slicing. In our opinion, slicing is one of the most useful features of Python.\n",
    "\n",
    "The syntax for slicing a list is:\n",
    "***\n",
    "\n",
    "list_name\\[start:end:step\\]\n",
    "\n",
    "***\n",
    "where start is the index of the first element we wish to retrieve (inclusive lower bound), end is one more than the index of the last element we wish to retrieve (exclusive upper bound), and step is the step size, or gap between indexes. Note that start, end, and step are optional. If omitted, Python assumes 0 for start, the list length for end, and 1 for step. Slicing is best illustrated with examples:"
   ]
  },
  {
   "cell_type": "code",
   "execution_count": 184,
   "metadata": {},
   "outputs": [
    {
     "name": "stdout",
     "output_type": "stream",
     "text": [
      "Example 1: ['a', 'b']\n",
      "Example 2: []\n",
      "Example 3: ['e', 'f']\n",
      "Example 4: ['a', 'b']\n",
      "Example 5: ['a', 'c', 'e']\n",
      "Example 6: ['f', 'e', 'd']\n"
     ]
    }
   ],
   "source": [
    "L = ['a', 'b', 'c', 'd', 'e', 'f']\n",
    "\n",
    "print(f'Example 1: {L[0:2]}') \n",
    "print(f'Example 2: {L[2:2]}') \n",
    "print(f'Example 3: {L[4:]}') \n",
    "print(f'Example 4: {L[:2]}') \n",
    "print(f'Example 5: {L[0:6:2]}') \n",
    "print(f'Example 6: {L[5:2:-1]}')"
   ]
  },
  {
   "cell_type": "markdown",
   "metadata": {},
   "source": [
    "Example 1 tells Python to retrieve all elements beginning with index 0 (the first element) and ending with one minus the end parameter of 2. This yields the first two elements of the list. Example 2 tells Python to start at index 2 and end at index 1. No list indices meet these criteria so the empty list is returned. Examples 3 and 4 illustrate the optional nature of the parameters; example 3 retrieves the list element with index 4 and all remaining list elements; example 4 retrieves all elements with indices less than 2. Example 5 retrieves elements with indices 0, 2, and 4; it begins with index 0 and increments the index in steps of 2. Finally, the last example demonstrates how to retrieve list elements in reverse order. It begins with index 5 and retrieves all elements with indexes strictly greater than 2 (recall that the end parameter is an exclusive bound).\n",
    "#### Modifying List Elements\n",
    "To modify a single element of a list, simply assign a value to that list element using the indexing method demonstrated above. Thus, to modify the element 'b' in the previous example:"
   ]
  },
  {
   "cell_type": "code",
   "execution_count": 185,
   "metadata": {},
   "outputs": [
    {
     "name": "stdout",
     "output_type": "stream",
     "text": [
      "['a', 6, 'c', 'd', 'e', 'f']\n"
     ]
    }
   ],
   "source": [
    "L[1]=6\n",
    "print(L)"
   ]
  },
  {
   "cell_type": "markdown",
   "metadata": {},
   "source": [
    "To modify multiple elements simultaneously, simply assign to a list slice:"
   ]
  },
  {
   "cell_type": "code",
   "execution_count": 186,
   "metadata": {},
   "outputs": [
    {
     "name": "stdout",
     "output_type": "stream",
     "text": [
      "['a', 6, 'c', 'd', -999, 0]\n"
     ]
    }
   ],
   "source": [
    "L[4:6] = [-999, 0] \n",
    "print(L)"
   ]
  },
  {
   "cell_type": "markdown",
   "metadata": {},
   "source": [
    "#### Other List Operations\n",
    "Python provides many useful functions for manipulating lists. In this section, we will demonstrate how to concatenate (join) lists, duplicate lists, copy lists, retrieve list length, and add and remove elements from lists.\n",
    "##### Concatenating Lists\n",
    "Use the + operator to concatenate, or join, lists."
   ]
  },
  {
   "cell_type": "code",
   "execution_count": 187,
   "metadata": {},
   "outputs": [
    {
     "data": {
      "text/plain": [
       "['a', 'b', 'c', 1, 2, 3]"
      ]
     },
     "execution_count": 187,
     "metadata": {},
     "output_type": "execute_result"
    }
   ],
   "source": [
    "list1 = ['a', 'b', 'c'] \n",
    "list2 = [1, 2, 3]\n",
    "list1 + list2"
   ]
  },
  {
   "cell_type": "markdown",
   "metadata": {},
   "source": [
    "##### Duplicating Lists\n",
    "The * operator makes copies of a list and concatenates them into a new list."
   ]
  },
  {
   "cell_type": "code",
   "execution_count": 188,
   "metadata": {},
   "outputs": [
    {
     "data": {
      "text/plain": [
       "[1, 2, 3, 1, 2, 3, 1, 2, 3]"
      ]
     },
     "execution_count": 188,
     "metadata": {},
     "output_type": "execute_result"
    }
   ],
   "source": [
    "L = [1, 2, 3]\n",
    "L*3"
   ]
  },
  {
   "cell_type": "markdown",
   "metadata": {},
   "source": [
    "###### Copying Lists\n",
    "To demonstrate list copying, we must first introduce the concepts of shallow and deep copies. Say that a list is stored in the variable L. The statement L2 = L creates a shallow copy. It creates a new symbol in the environment, L2, but that symbol points to the same data as L. Thus, a change made to L2 will affect L. To see this, consider the following code:"
   ]
  },
  {
   "cell_type": "code",
   "execution_count": 189,
   "metadata": {},
   "outputs": [
    {
     "name": "stdout",
     "output_type": "stream",
     "text": [
      "L = ['text', 2, 3]\n",
      "L2 = ['text', 2, 3]\n"
     ]
    }
   ],
   "source": [
    "L=[1,2,3]\n",
    "\n",
    "L2=L\n",
    "L2[0]='text'\n",
    "\n",
    "print(f'L = {L}')\n",
    "print(f'L2 = {L2}')"
   ]
  },
  {
   "cell_type": "markdown",
   "metadata": {},
   "source": [
    "To make a deep copy of a list, you must use a list’s copy method. This method duplicates the list in memory and prevents behavior like that shown in the previous example. The following code demonstrates the copy method of list."
   ]
  },
  {
   "cell_type": "code",
   "execution_count": 190,
   "metadata": {},
   "outputs": [
    {
     "name": "stdout",
     "output_type": "stream",
     "text": [
      "L = [1, 2, 3]\n",
      "L2 = ['text', 2, 3]\n"
     ]
    }
   ],
   "source": [
    "L = [1, 2, 3]\n",
    "L2 = L.copy() \n",
    "L2[0] = 'text'\n",
    "\n",
    "print(f'L = {L}')\n",
    "print(f'L2 = {L2}')"
   ]
  },
  {
   "cell_type": "markdown",
   "metadata": {},
   "source": [
    "##### Getting the Length of a List\n",
    "The len function retrieves the length of a list. Thus, len(\\[1,2,3\\]) returns 3.\n",
    "##### Adding and Removing Elements from Lists\n",
    "Use the append method of list to add a new element to the end of a list."
   ]
  },
  {
   "cell_type": "code",
   "execution_count": 192,
   "metadata": {},
   "outputs": [
    {
     "name": "stdout",
     "output_type": "stream",
     "text": [
      "[1, 2, 3, 'cat']\n",
      "4\n"
     ]
    }
   ],
   "source": [
    "L = [1, 2, 3] \n",
    "L.append('cat')\n",
    "print(L)\n",
    "\n",
    "print(len(L))"
   ]
  },
  {
   "cell_type": "markdown",
   "metadata": {},
   "source": [
    "Python also provides the insert and remove methods to insert and remove list elements. L.insert(i, x) inserts x at the index given by i. L.remove(x) removes the first item from L where L\\[i\\] is equal to x.\n",
    "### 8.2 Tuples\n",
    "A tuple is an immutable list - it cannot be changed after it is created. The syntax for tuples is nearly identical to that for lists. The main difference is that tuples use parentheses ( ) whereas lists use square brackets \\[ \\]. The process for retrieving an element from a tuple is identical to that for lists. We mention tuples because many Python functions either require tuples as arguments or return tuples. For example, the Pandas DataFrame, which we introduce in the next chapter, stores a table of data. Pandas provides a function that retrieves the dimensions of a DataFrame and this function returns a tuple containing the number of rows and columns.\n",
    "### 8.3 Dictionaries\n",
    "A dictionary is a list of key-value pairs. Dictionaries are very useful data structures since they allow users to assign data items (values) to keys of their choice. This makes it easier to store and retrieve data. For example, consider the following code that stores an income statement as a dictionary."
   ]
  },
  {
   "cell_type": "code",
   "execution_count": 193,
   "metadata": {},
   "outputs": [],
   "source": [
    "income_stmt = {'Revenue': 100, 'COGS': 52,\n",
    "'Gross margin': 48, 'SG&A': 40,\n",
    "'Net Income': 8}"
   ]
  },
  {
   "cell_type": "markdown",
   "metadata": {},
   "source": [
    "To create a dictionary, use curly braces { }. Within the curly braces, enter a key, followed by a colon, followed by the value. Separate each key-value pair with a comma. Note that Python permits newlines inside a dictionary to increase code readability. Keys can be numbers, strings, or tuples, and the keys must be unique (i.e., no repeated keys). The values can be any valid data type.\n",
    "\n",
    "To retrieve a value from a dictionary, use the same syntax for lists. However, instead of using a numerical index, use a key."
   ]
  },
  {
   "cell_type": "code",
   "execution_count": 194,
   "metadata": {},
   "outputs": [
    {
     "data": {
      "text/plain": [
       "100"
      ]
     },
     "execution_count": 194,
     "metadata": {},
     "output_type": "execute_result"
    }
   ],
   "source": [
    "income_stmt['Revenue']"
   ]
  },
  {
   "cell_type": "markdown",
   "metadata": {},
   "source": [
    "To add a key-value pair to a dictionary, simply assign the value to a new key and Python will add the key-value pair to the dictionary. Thus,"
   ]
  },
  {
   "cell_type": "code",
   "execution_count": null,
   "metadata": {},
   "outputs": [],
   "source": [
    "income_stmt['Fiscal Year'] = 2018"
   ]
  },
  {
   "cell_type": "markdown",
   "metadata": {},
   "source": [
    "will create a new key 'Fiscal Year' in the dictionary income_stmt and assign it the value 2018.\n",
    "\n",
    "To modify a value in the dictionary, simply set the new value using a key. Say, for example, we wish to change the fiscal year that we just added. We would type:"
   ]
  },
  {
   "cell_type": "code",
   "execution_count": 196,
   "metadata": {},
   "outputs": [
    {
     "data": {
      "text/plain": [
       "1998"
      ]
     },
     "execution_count": 196,
     "metadata": {},
     "output_type": "execute_result"
    }
   ],
   "source": [
    "income_stmt['Fiscal Year'] = 1998\n",
    "income_stmt['Fiscal Year']"
   ]
  },
  {
   "cell_type": "markdown",
   "metadata": {},
   "source": [
    "Python provides support for many other built-in dictionary opera- tions. You can get the length of the dictionary (number of key-value pairs), delete dictionary keys (and their values), clear all keys and values, copy the dictionary, retrieve only the keys, retrieve only the values, etc. We do not demonstrate those here.\n",
    "## 9. Working with Strings\n",
    "In many ways, Python strings behave like lists. Strings can be sliced, joined using the + operator, duplicated using the * operator, just like lists. That is why this section appears after the section on lists.\n",
    "### 9.1 Strings as Lists of Characters\n",
    "Conceptually, a string is just a list of characters. To see this, consider the following code and its output. The code uses Python’s built-in list function to split a string into a list of single-character strings. This illustrates how strings can be perceived as lists of characters."
   ]
  },
  {
   "cell_type": "code",
   "execution_count": 197,
   "metadata": {},
   "outputs": [
    {
     "data": {
      "text/plain": [
       "['H', 'e', 'l', 'l', 'o', ' ', 'w', 'o', 'r', 'l', 'd', '.']"
      ]
     },
     "execution_count": 197,
     "metadata": {},
     "output_type": "execute_result"
    }
   ],
   "source": [
    "s = 'Hello world.' \n",
    "list(s)"
   ]
  },
  {
   "cell_type": "markdown",
   "metadata": {},
   "source": [
    "### 9.2 Extracting Pieces of Strings\n",
    "To extract a substring, use list indexing or slicing notation."
   ]
  },
  {
   "cell_type": "code",
   "execution_count": 198,
   "metadata": {},
   "outputs": [
    {
     "name": "stdout",
     "output_type": "stream",
     "text": [
      ".\n",
      "Hello\n"
     ]
    }
   ],
   "source": [
    "s = 'Hello world.' \n",
    "print(s[-1]) \n",
    "print(s[0:5])"
   ]
  },
  {
   "cell_type": "markdown",
   "metadata": {},
   "source": [
    "### 9.3 String Operations\n",
    "#### Joining Strings\n",
    "Use the + operator to join (concatenate) two strings."
   ]
  },
  {
   "cell_type": "code",
   "execution_count": 199,
   "metadata": {},
   "outputs": [
    {
     "data": {
      "text/plain": [
       "'Hello World.'"
      ]
     },
     "execution_count": 199,
     "metadata": {},
     "output_type": "execute_result"
    }
   ],
   "source": [
    "s1 = 'Hello'\n",
    "s2 = 'World'\n",
    "s1 + ' ' + s2 + '.'"
   ]
  },
  {
   "cell_type": "markdown",
   "metadata": {},
   "source": [
    "#### Repeating Strings\n",
    "\n",
    "Use the * operator to repeat a string."
   ]
  },
  {
   "cell_type": "code",
   "execution_count": 200,
   "metadata": {},
   "outputs": [
    {
     "data": {
      "text/plain": [
       "'HelloHelloHello'"
      ]
     },
     "execution_count": 200,
     "metadata": {},
     "output_type": "execute_result"
    }
   ],
   "source": [
    "s1='Hello'\n",
    "s1*3"
   ]
  },
  {
   "cell_type": "markdown",
   "metadata": {},
   "source": [
    "#### Checking Whether a String Contains a Substring\n",
    "Use the in operator to check whether a string contains a substring. The expression substr in s evaluates to True if substr appears anywhere in s, and False otherwise. In the following example, note that the second expression evaluates to False because Python strings are case-sensitive."
   ]
  },
  {
   "cell_type": "code",
   "execution_count": 201,
   "metadata": {},
   "outputs": [
    {
     "name": "stdout",
     "output_type": "stream",
     "text": [
      "True\n",
      "False\n"
     ]
    }
   ],
   "source": [
    "s = 'Journal of Accounting Research' \n",
    "print('Accounting' in s)\n",
    "print('AND' in s)"
   ]
  },
  {
   "cell_type": "markdown",
   "metadata": {},
   "source": [
    "### 9.4 Useful String Functions and Methods\n",
    "Following are some useful functions for working with strings. We only demonstrate a subset of the features of these functions. Many of these functions have optional arguments whose use we do not demonstrate. To learn more about these functions, see the official [documentation](https://docs.python.org/3/library/stdtypes.html#str) on Python’s built-in string methods.\n",
    "\n",
    "We distinguish between functions and methods. A function is a reusable block of code. A method is a specific type of function. Python (and many other programming languages) support a construct known as objects and implement “object-oriented programming.” An object is a container for data and may contain its own functions. For example, lists and strings are implemented as objects in Python. Functions that belong to an object are called methods. Methods are called differently than ordinary functions. Recall the append method of the list object. We called it using a different syntax than we use for ordinary functions, e.g., L.append(x). Methods are called by typing an object’s name, followed by a dot (.), followed by the method name, then any arguments in parentheses.\n",
    "#### Getting the Length of a String\n",
    "Use the len function, e.g., len('abcd') returns 4.\n",
    "#### lower and upper\n",
    "lower and upper convert a string to all lower case or all upper case, respectively."
   ]
  },
  {
   "cell_type": "code",
   "execution_count": 202,
   "metadata": {},
   "outputs": [
    {
     "name": "stdout",
     "output_type": "stream",
     "text": [
      "HELLO WORLD.\n",
      "hello world.\n"
     ]
    }
   ],
   "source": [
    "s = 'Hello world.' \n",
    "print(s.upper()) \n",
    "print(s.lower())"
   ]
  },
  {
   "cell_type": "markdown",
   "metadata": {},
   "source": [
    "#### strip, lstrip, and rstrip\n",
    "A common need when cleaning text data is to remove white space from strings. Python provides the strip method for this purpose. strip removes all white space characters from the beginning and end of a string. White space includes space, tab, and newline characters."
   ]
  },
  {
   "cell_type": "code",
   "execution_count": 204,
   "metadata": {},
   "outputs": [
    {
     "data": {
      "text/plain": [
       "'Dirty string with unnecessary spaces at beginning and end.'"
      ]
     },
     "execution_count": 204,
     "metadata": {},
     "output_type": "execute_result"
    }
   ],
   "source": [
    "s = ' Dirty string with unnecessary spaces at beginning and end. '\n",
    "s.strip()"
   ]
  },
  {
   "cell_type": "markdown",
   "metadata": {},
   "source": [
    "Notice that strip removed the spaces from the beginning and the end of the string. If we wish to remove white space from only the beginning (end) of a string, use lstrip (rstrip).\n",
    "\n",
    "By default, these methods remove white space, but we can pass an optional argument to tell these methods which characters to strip."
   ]
  },
  {
   "cell_type": "code",
   "execution_count": 203,
   "metadata": {},
   "outputs": [
    {
     "data": {
      "text/plain": [
       "'Hello'"
      ]
     },
     "execution_count": 203,
     "metadata": {},
     "output_type": "execute_result"
    }
   ],
   "source": [
    "s = 'Hello.' \n",
    "s.rstrip('.')"
   ]
  },
  {
   "cell_type": "markdown",
   "metadata": {},
   "source": [
    "#### startswith and endswith\n",
    "Use the startswith and endswith to determine whether a string starts or ends with a given substring. These methods are similar to the in operator, but they only test the beginning or end of a string. These methods return True or False."
   ]
  },
  {
   "cell_type": "code",
   "execution_count": 205,
   "metadata": {},
   "outputs": [
    {
     "name": "stdout",
     "output_type": "stream",
     "text": [
      "True\n",
      "False\n"
     ]
    }
   ],
   "source": [
    "s = '111 33' \n",
    "print(s.startswith('11')) \n",
    "print(s.endswith('x'))"
   ]
  },
  {
   "cell_type": "markdown",
   "metadata": {},
   "source": [
    "#### find\n",
    "find searches for a substring within a string. If the substring is found, find returns the index of the first occurrence. If the substring is not found, find returns -1."
   ]
  },
  {
   "cell_type": "code",
   "execution_count": 206,
   "metadata": {},
   "outputs": [
    {
     "data": {
      "text/plain": [
       "2"
      ]
     },
     "execution_count": 206,
     "metadata": {},
     "output_type": "execute_result"
    }
   ],
   "source": [
    "s = 'text analysis'\n",
    "s.find('xt a')"
   ]
  },
  {
   "cell_type": "markdown",
   "metadata": {},
   "source": [
    "#### replace\n",
    "Use replace to replace one substring with another. By default, it replaces all occurrences of a substring. An optional count argument allows to specify the number of replacements."
   ]
  },
  {
   "cell_type": "code",
   "execution_count": 207,
   "metadata": {},
   "outputs": [
    {
     "data": {
      "text/plain": [
       "'TEXT analysis'"
      ]
     },
     "execution_count": 207,
     "metadata": {},
     "output_type": "execute_result"
    }
   ],
   "source": [
    "s = 'text analysis' \n",
    "s.replace('text', 'TEXT')"
   ]
  },
  {
   "cell_type": "markdown",
   "metadata": {},
   "source": [
    "#### Count Occurrences of a Substring\n",
    "The count method returns the number of times a substring occurs in a string."
   ]
  },
  {
   "cell_type": "code",
   "execution_count": 212,
   "metadata": {},
   "outputs": [
    {
     "data": {
      "text/plain": [
       "2"
      ]
     },
     "execution_count": 212,
     "metadata": {},
     "output_type": "execute_result"
    }
   ],
   "source": [
    "s = \"At FedEx Ground, we have the market leading e-commerce portfolio. We continue to see strong demand across all customer segments with our new seven-day service. We will increase our speed advantage during the New Year. Our Sunday roll-out will speed up some lanes by one and two full transit days. This will increase our advantage significantly. And as you know, we are already faster by at least one day when compared to UPS's ground service in 25% of lanes. It is also really important to note our speed advantage and seven-day service is also very valuable for the premium B2B sectors , including healthcare and perishables shippers. Now, turning to Q2, I'm not pleased with our financial results.\"\n",
    "s.count('we')"
   ]
  },
  {
   "cell_type": "markdown",
   "metadata": {},
   "source": [
    "#### split\n",
    "The split method splits a string and returns a list of substrings. By default, it splits using spaces but we can tell Python which delimiter we wish to use."
   ]
  },
  {
   "cell_type": "code",
   "execution_count": 213,
   "metadata": {},
   "outputs": [
    {
     "name": "stdout",
     "output_type": "stream",
     "text": [
      "['text', 'analysis', 'is', 'fun.']\n"
     ]
    },
    {
     "data": {
      "text/plain": [
       "list"
      ]
     },
     "execution_count": 213,
     "metadata": {},
     "output_type": "execute_result"
    }
   ],
   "source": [
    "s = 'text analysis is fun.' \n",
    "x=s.split()\n",
    "print(x)\n",
    "type(x)"
   ]
  },
  {
   "cell_type": "code",
   "execution_count": null,
   "metadata": {},
   "outputs": [],
   "source": [
    "import wrds"
   ]
  }
 ],
 "metadata": {
  "kernelspec": {
   "display_name": "Python 3 (ipykernel)",
   "language": "python",
   "name": "python3"
  },
  "language_info": {
   "codemirror_mode": {
    "name": "ipython",
    "version": 3
   },
   "file_extension": ".py",
   "mimetype": "text/x-python",
   "name": "python",
   "nbconvert_exporter": "python",
   "pygments_lexer": "ipython3",
   "version": "3.9.16"
  }
 },
 "nbformat": 4,
 "nbformat_minor": 4
}
