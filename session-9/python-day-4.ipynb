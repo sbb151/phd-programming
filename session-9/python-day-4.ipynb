{
 "cells": [
  {
   "cell_type": "markdown",
   "metadata": {},
   "source": [
    "# Lesson 4: Extracting data from the web\n",
    "We have, thus far, focused on some of the Python fundamentals. Today, we will put some of that to work and build a script that will scrape the Stanford Securities Class Action Clearinghouse database. This database houses a significant amount of information about federal securities class action lawsuits and has been used as a primary data source in numerous accounting and finance studies.\n",
    "## 1 How do we pull in web content?\n",
    "There are several ways to import web content into Python strings or lists, but probably the easiest to use is the **requests** library. You will need to import this library from **pip** before executing any commands in this lesson.\n",
    "### 1.1 Making a request\n",
    "The first task involved with making a request is assigning a URL to a Python object. Let's try this with my faculty page on the Smeal website."
   ]
  },
  {
   "cell_type": "code",
   "execution_count": null,
   "metadata": {},
   "outputs": [],
   "source": [
    "import requests\n",
    "\n",
    "page=requests.get(\"https://directory.smeal.psu.edu/sbb151\")"
   ]
  },
  {
   "cell_type": "markdown",
   "metadata": {},
   "source": [
    "To see whether the web page loaded without error, we can call the **status_code** method:"
   ]
  },
  {
   "cell_type": "code",
   "execution_count": null,
   "metadata": {},
   "outputs": [],
   "source": [
    "page.status_code"
   ]
  },
  {
   "cell_type": "markdown",
   "metadata": {},
   "source": [
    "A status code of \"200\" means everything is okay. You have probably seen the staus code \"403 Forbidden\" from a website at times. That is another possible code you could get. If you get anything but \"200\", you will need to investigate further. Error handling comes in handy"
   ]
  },
  {
   "cell_type": "code",
   "execution_count": null,
   "metadata": {},
   "outputs": [],
   "source": [
    "if page.status_code==200:\n",
    "    print(\"Everything is good!\")"
   ]
  },
  {
   "cell_type": "markdown",
   "metadata": {},
   "source": [
    "### 1.2 The content of the page\n",
    "You can extract the content of the page by using the **text** attribute."
   ]
  },
  {
   "cell_type": "code",
   "execution_count": null,
   "metadata": {},
   "outputs": [],
   "source": [
    "print(page.text)"
   ]
  },
  {
   "cell_type": "markdown",
   "metadata": {},
   "source": [
    "## 2 Making sense of the HTML content\n",
    "As you can see from my Smeal directory web page above, extracting the actual text of the HTML code is only step one of the process for scraping web content. We need some way to \"look\" through the code and find what we are interested in collecting. Fortunately, Python has the **BeautifulSoup** module for parsing the HTML code. Let's dif into **BeautifulSoup**."
   ]
  },
  {
   "cell_type": "code",
   "execution_count": null,
   "metadata": {},
   "outputs": [],
   "source": [
    "from bs4 import BeautifulSoup"
   ]
  },
  {
   "cell_type": "markdown",
   "metadata": {},
   "source": [
    "### 2.1 Read the HTML content into a BeautifulSoup object\n",
    "We can read the text of the website into a BeautifulSoup object but also should specifiy the parser. I often use the \"html5lib\" because it is very lenient in interpreting the HTML code that it sees. The \"html5lib\" parser claims to parse pages the same way a web browser does, which is quite useful."
   ]
  },
  {
   "cell_type": "code",
   "execution_count": null,
   "metadata": {},
   "outputs": [],
   "source": [
    "soup=BeautifulSoup(page.text,'html5lib')\n",
    "\n",
    "print(soup)"
   ]
  },
  {
   "cell_type": "markdown",
   "metadata": {},
   "source": [
    "It looks like out \"soup\" object contains the same information as when we simply printed \"page.text\". However, BeautifulSoup has combed through the code and given use the ability to search!"
   ]
  },
  {
   "cell_type": "markdown",
   "metadata": {},
   "source": [
    "### 2.2 Tags\n",
    "BeautifulSoup captures the HTML tags for every tag in the code. You can access them as attributes of the main BeautifulSoup object. For instance, let's print the first \"link\" tag. Those looks like &lt;a&gt; in HTML."
   ]
  },
  {
   "cell_type": "code",
   "execution_count": null,
   "metadata": {},
   "outputs": [],
   "source": [
    "print(soup.a)"
   ]
  },
  {
   "cell_type": "markdown",
   "metadata": {},
   "source": [
    "If you want to capture all of a given tag, you can easily loop through the tags using a **for** loop and the **find_all** method in BeautifulSoup:"
   ]
  },
  {
   "cell_type": "code",
   "execution_count": null,
   "metadata": {},
   "outputs": [],
   "source": [
    "links=soup.find_all('a')\n",
    "for link in links:\n",
    "    print(link)"
   ]
  },
  {
   "cell_type": "markdown",
   "metadata": {},
   "source": [
    "There are quite a few links in my directory page! What if we want to extract my bio entry? How would we do that? Well, we will need to scan the code to find the biography and see if there are any tags that might be of interest.\n",
    "\n",
    "From my inspection, the biography is housed in a &lt;div&gt; tag with the additional attrribute of id=\"biography\". That should be easy to extract with both of those identifiers."
   ]
  },
  {
   "cell_type": "code",
   "execution_count": null,
   "metadata": {},
   "outputs": [],
   "source": [
    "#print(soup.find(id='biography'))\n",
    "print(soup.find(id='biography').p.get_text())"
   ]
  },
  {
   "cell_type": "markdown",
   "metadata": {},
   "source": [
    "Easy, right? Let's turn our attention to getting some lawsuit data!"
   ]
  },
  {
   "cell_type": "markdown",
   "metadata": {},
   "source": [
    "## 3 Extracting federal class action lawsuits\n",
    "### 3.1 Import some Python modules\n",
    "We are going to need some Python modules to help us out. Let's go ahead and import them now."
   ]
  },
  {
   "cell_type": "code",
   "execution_count": null,
   "metadata": {},
   "outputs": [],
   "source": [
    "import requests\n",
    "from bs4 import BeautifulSoup\n",
    "import re\n",
    "from math import ceil\n",
    "import csv"
   ]
  },
  {
   "cell_type": "markdown",
   "metadata": {},
   "source": [
    "### 3.2 Determine the number of pages to scrape\n",
    "One of the annoying aspects of the SCAC website is that when you go to the filings page, it returns the results in a number of pages. Let's take a look at the [filings](http://securities.stanford.edu/filings.html) page. \n",
    "\n",
    "Forunately, with a little bit of Python magic, we can figure out the number of pages of results, and then work through them one-at-a-time."
   ]
  },
  {
   "cell_type": "code",
   "execution_count": null,
   "metadata": {},
   "outputs": [],
   "source": [
    "scac = \"http://securities.stanford.edu/filings.html\"\n",
    "page = requests.get(scac)\n",
    "print(page.text)"
   ]
  },
  {
   "cell_type": "markdown",
   "metadata": {},
   "source": [
    "We can observe the total filings count on the first page and SCAC provides 20 hits per page of results. Thus, we can extract the total number of filings, divide by twenty, and apply a ceiling integer function to provide the total number of pages that we need to scrape.\n",
    "\n",
    "To get the total filings count, it appears that we need to search witin a &lt;h4&gt; tag."
   ]
  },
  {
   "cell_type": "code",
   "execution_count": null,
   "metadata": {},
   "outputs": [],
   "source": [
    "soup = BeautifulSoup(page.text, 'html.parser')\n",
    "heading = soup.find_all('h4')[-1].get_text()\n",
    "print(heading)\n",
    "total_record_num = re.findall(r'\\d+', heading)[0]\n",
    "total_page_num = ceil(int(total_record_num) / 20)\n",
    "\n",
    "print(\"Total number of filings: \",total_record_num)\n",
    "print(\"Pages to scrape: \",total_page_num)"
   ]
  },
  {
   "cell_type": "markdown",
   "metadata": {},
   "source": [
    "### 3.2 Webscrape all pages within SCAC\n",
    "I am first going to set up a list with the headers of the columns that I am going to print to a CSV file with all of the class action lawsuits."
   ]
  },
  {
   "cell_type": "code",
   "execution_count": null,
   "metadata": {},
   "outputs": [],
   "source": [
    "container = [(\"filing_name\", \"filing_date\", \"district_court\", \"exchange\", \"ticker\")]"
   ]
  },
  {
   "cell_type": "markdown",
   "metadata": {},
   "source": [
    "Next, I am going to start with page number 1 and work until the last page that we calculated in *total_page_num*. We need to figure out the URL for each returned page so that we can \"get\" the URL through **requests**."
   ]
  },
  {
   "cell_type": "code",
   "execution_count": null,
   "metadata": {},
   "outputs": [],
   "source": [
    "i = 1\n",
    "while i <= total_page_num:\n",
    "    \n",
    "    ## 1. The URL can be built as follows:\n",
    "    url = scac + \"?page=\" + repr(i)\n",
    "    #print(url)\n",
    "    \n",
    "    ## 2. Next, we will extract the URL with requests and parse the text with BeautifulSoup so that we can search the tag structure to get what we are looking for.\n",
    "    page = requests.get(url)\n",
    "    soup = BeautifulSoup(page.text, 'html.parser')\n",
    "    \n",
    "    ## 3. Extract the table containing the lawsuit data\n",
    "    table = soup.find('table', class_ = 'table table-bordered table-striped table-hover')\n",
    "    \n",
    "    ## 4. Extract the body of the table\n",
    "    tbody = table.find('tbody')\n",
    "    \n",
    "    ## 5. Loop through each row of the table and then define a tuple with the elements representing the filing name, filing date, district court, stock exchange of the defendant, and the ticker symbol of the defendant\n",
    "    for row in tbody.find_all('tr'):\n",
    "        #print(row)\n",
    "        caseinfo=re.search(r'<tr.*?onclick=\"window\\.location=\\'(.+?)\\'\"',str(row),re.I|re.S)\n",
    "        print(caseinfo.group(1))\n",
    "        url2='http://securities.stanford.edu/'+caseinfo.group(1)\n",
    "        page2=requests.get(url2)\n",
    "        columns = row.find_all('td')\n",
    "        c1 = re.sub(r'[\\t\\n]', '', columns[0].get_text()).strip()\n",
    "        c2 = re.sub(r'[\\t\\n]', '', columns[1].get_text()).strip()\n",
    "        c3 = re.sub(r'[\\t\\n]', '', columns[2].get_text()).strip()\n",
    "        c4 = re.sub(r'[\\t\\n]', '', columns[3].get_text()).strip()\n",
    "        c5 = re.sub(r'[\\t\\n]', '', columns[4].get_text()).strip()\n",
    "        \n",
    "        ## 6. Append the tuple with the data to our container list\n",
    "        container.append((c1, c2, c3, c4, c5))\n",
    "        \n",
    "    ## 7. Increment the counter so that we can move on the the next page of results\n",
    "    i = i + 1"
   ]
  },
  {
   "cell_type": "markdown",
   "metadata": {},
   "source": [
    "### 3.3 Write to a CSV file\n",
    "Let's now export the data in *container* to a CSV file using the **csv** module."
   ]
  },
  {
   "cell_type": "code",
   "execution_count": null,
   "metadata": {},
   "outputs": [],
   "source": [
    "with open('scac.csv', 'w', newline='') as csvfile:\n",
    "    writer = csv.writer(csvfile)\n",
    "    writer.writerows(container)"
   ]
  },
  {
   "cell_type": "code",
   "execution_count": null,
   "metadata": {},
   "outputs": [],
   "source": []
  }
 ],
 "metadata": {
  "kernelspec": {
   "display_name": "Python 3 (ipykernel)",
   "language": "python",
   "name": "python3"
  },
  "language_info": {
   "codemirror_mode": {
    "name": "ipython",
    "version": 3
   },
   "file_extension": ".py",
   "mimetype": "text/x-python",
   "name": "python",
   "nbconvert_exporter": "python",
   "pygments_lexer": "ipython3",
   "version": "3.9.16"
  }
 },
 "nbformat": 4,
 "nbformat_minor": 4
}
